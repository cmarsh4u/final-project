{
 "cells": [
  {
   "cell_type": "code",
   "execution_count": 1,
   "metadata": {
    "ExecuteTime": {
     "end_time": "2019-11-24T02:38:37.782515Z",
     "start_time": "2019-11-24T02:37:57.158636Z"
    }
   },
   "outputs": [],
   "source": [
    "import pandas as pd\n",
    "import numpy as np\n",
    "import matplotlib.pyplot as plt\n",
    "import seaborn as sns\n",
    "from pandas.plotting import scatter_matrix\n",
    "from sklearn import linear_model, preprocessing\n",
    "from sklearn.neighbors import KNeighborsClassifier"
   ]
  },
  {
   "cell_type": "code",
   "execution_count": 2,
   "metadata": {
    "ExecuteTime": {
     "end_time": "2019-11-24T02:38:37.788500Z",
     "start_time": "2019-11-24T02:38:37.785499Z"
    }
   },
   "outputs": [],
   "source": [
    "#file2 = file.loc[file['YEAR'] > 2000 ,:]\n",
    "#file2[\"YEAR\"].unique()"
   ]
  },
  {
   "cell_type": "code",
   "execution_count": 3,
   "metadata": {
    "ExecuteTime": {
     "end_time": "2019-11-24T02:38:37.892950Z",
     "start_time": "2019-11-24T02:38:37.792500Z"
    }
   },
   "outputs": [],
   "source": [
    "#file2 = file2[[\"YEAR\", 'MONTH', 'EQ_PRIMARY','Depth','LATITUDE','LONGITUDE','REGION_CODE','DEATHS','INJURIES' ]]"
   ]
  },
  {
   "cell_type": "code",
   "execution_count": 4,
   "metadata": {
    "ExecuteTime": {
     "end_time": "2019-11-24T02:38:37.978960Z",
     "start_time": "2019-11-24T02:38:37.896934Z"
    }
   },
   "outputs": [],
   "source": [
    "#file2.columns"
   ]
  },
  {
   "cell_type": "code",
   "execution_count": 5,
   "metadata": {
    "ExecuteTime": {
     "end_time": "2019-11-24T02:38:38.062773Z",
     "start_time": "2019-11-24T02:38:37.982941Z"
    }
   },
   "outputs": [],
   "source": [
    "#file.isnull().sum()\n",
    "#file['YEAR'].unique()\n",
    "#file2.describe()\n",
    "             "
   ]
  },
  {
   "cell_type": "code",
   "execution_count": 6,
   "metadata": {
    "ExecuteTime": {
     "end_time": "2019-11-24T02:38:38.149061Z",
     "start_time": "2019-11-24T02:38:38.066755Z"
    }
   },
   "outputs": [],
   "source": [
    "#corrmat = file2.corr()\n",
    "#f, ax = plt.subplots(figsize=(9,8))\n",
    "#sns.heatmap(corrmat, ax=ax , cmap= \"YlGnBu\", linewidths = 0.1)"
   ]
  },
  {
   "cell_type": "code",
   "execution_count": 7,
   "metadata": {
    "ExecuteTime": {
     "end_time": "2019-11-24T02:38:38.232577Z",
     "start_time": "2019-11-24T02:38:38.153043Z"
    }
   },
   "outputs": [],
   "source": [
    "#plt.scatter(file2['EQ_PRIMARY'] ,file2['INJURIES'])\n",
    "#plt.show()"
   ]
  },
  {
   "cell_type": "code",
   "execution_count": 8,
   "metadata": {
    "ExecuteTime": {
     "end_time": "2019-11-24T02:38:38.326377Z",
     "start_time": "2019-11-24T02:38:38.232577Z"
    }
   },
   "outputs": [],
   "source": [
    "import sklearn\n",
    "from sklearn import linear_model\n",
    "from sklearn.utils import shuffle"
   ]
  },
  {
   "cell_type": "code",
   "execution_count": 9,
   "metadata": {
    "ExecuteTime": {
     "end_time": "2019-11-24T02:38:38.404522Z",
     "start_time": "2019-11-24T02:38:38.326377Z"
    }
   },
   "outputs": [],
   "source": [
    "#file2.head()"
   ]
  },
  {
   "cell_type": "code",
   "execution_count": 10,
   "metadata": {
    "ExecuteTime": {
     "end_time": "2019-11-24T02:38:38.490091Z",
     "start_time": "2019-11-24T02:38:38.404522Z"
    }
   },
   "outputs": [],
   "source": [
    "# I am predicting the eq_primary which is the magnitude of earthquakes using linear regression"
   ]
  },
  {
   "cell_type": "code",
   "execution_count": 11,
   "metadata": {
    "ExecuteTime": {
     "end_time": "2019-11-24T02:38:38.575145Z",
     "start_time": "2019-11-24T02:38:38.494091Z"
    }
   },
   "outputs": [],
   "source": [
    "#le = preprocessing.LabelEncoder()\n",
    "#region = le.fit_transform(list(file2[\"REGION_CODE\"]))\n",
    "#file2['region'] = region\n",
    "#file2.head()\n",
    "#del file2['region']\n",
    "#del file2['REGION_CODE']"
   ]
  },
  {
   "cell_type": "code",
   "execution_count": 12,
   "metadata": {
    "ExecuteTime": {
     "end_time": "2019-11-24T02:38:38.656897Z",
     "start_time": "2019-11-24T02:38:38.578143Z"
    }
   },
   "outputs": [],
   "source": [
    "# 10 = central, western and south africa , 15=Northen africa , 20- antarctica, 30= East Asia , 40 = central asia, \n",
    "# 50 = kamchatka and kuril islands, 60= s. and se asia and indian ocean ,  70= atlantic ocean\n",
    "# 80 = bering sea , 90 = carribean , 100= central america , 110 = eastern europe , 120 = northern and western europe\n",
    "# 130 = southern europe , 140 = middle east , 150 = north america and hawaii\n",
    "# 160 = south america , 170 = central and south pacific"
   ]
  },
  {
   "cell_type": "code",
   "execution_count": 13,
   "metadata": {
    "ExecuteTime": {
     "end_time": "2019-11-24T02:38:38.746796Z",
     "start_time": "2019-11-24T02:38:38.658897Z"
    }
   },
   "outputs": [],
   "source": [
    "#file2['REGION_CODE'].unique()"
   ]
  },
  {
   "cell_type": "code",
   "execution_count": 14,
   "metadata": {
    "ExecuteTime": {
     "end_time": "2019-11-24T02:38:38.840574Z",
     "start_time": "2019-11-24T02:38:38.746796Z"
    }
   },
   "outputs": [],
   "source": [
    "#dummy = pd.get_dummies(file2['REGION_CODE'])"
   ]
  },
  {
   "cell_type": "code",
   "execution_count": 15,
   "metadata": {
    "ExecuteTime": {
     "end_time": "2019-11-24T02:38:38.918720Z",
     "start_time": "2019-11-24T02:38:38.840574Z"
    }
   },
   "outputs": [],
   "source": [
    "#dummy.head()"
   ]
  },
  {
   "cell_type": "code",
   "execution_count": 16,
   "metadata": {
    "ExecuteTime": {
     "end_time": "2019-11-24T02:38:39.012501Z",
     "start_time": "2019-11-24T02:38:38.918720Z"
    }
   },
   "outputs": [],
   "source": [
    "#file2 = pd.concat([file2, dummy], axis=1)"
   ]
  },
  {
   "cell_type": "code",
   "execution_count": 17,
   "metadata": {
    "ExecuteTime": {
     "end_time": "2019-11-24T02:38:39.176053Z",
     "start_time": "2019-11-24T02:38:39.012501Z"
    }
   },
   "outputs": [],
   "source": [
    "#file2.head()"
   ]
  },
  {
   "cell_type": "code",
   "execution_count": 18,
   "metadata": {
    "ExecuteTime": {
     "end_time": "2019-11-24T02:38:39.254196Z",
     "start_time": "2019-11-24T02:38:39.176053Z"
    }
   },
   "outputs": [],
   "source": [
    "#del file2['region']\n",
    "#file2.head()"
   ]
  },
  {
   "cell_type": "code",
   "execution_count": 19,
   "metadata": {
    "ExecuteTime": {
     "end_time": "2019-11-24T02:38:39.331985Z",
     "start_time": "2019-11-24T02:38:39.254196Z"
    }
   },
   "outputs": [],
   "source": [
    "# seperate code\n",
    "#new_data = file2.drop(['LATITUDE', 'LONGITUDE'],1)"
   ]
  },
  {
   "cell_type": "code",
   "execution_count": 20,
   "metadata": {
    "ExecuteTime": {
     "end_time": "2019-11-24T02:38:39.426123Z",
     "start_time": "2019-11-24T02:38:39.331985Z"
    }
   },
   "outputs": [],
   "source": [
    "#new_data.head()"
   ]
  },
  {
   "cell_type": "code",
   "execution_count": null,
   "metadata": {
    "ExecuteTime": {
     "end_time": "2019-11-21T04:17:03.597290Z",
     "start_time": "2019-11-21T04:17:03.363274Z"
    }
   },
   "outputs": [],
   "source": []
  },
  {
   "cell_type": "code",
   "execution_count": 21,
   "metadata": {
    "ExecuteTime": {
     "end_time": "2019-11-24T02:38:39.504272Z",
     "start_time": "2019-11-24T02:38:39.426123Z"
    }
   },
   "outputs": [],
   "source": [
    "#file2.corr()\n",
    "#corrmat = new_data.corr()\n",
    "#top_corr_features = corrmat.index\n",
    "#plt.figure(figsize=(22,15))\n",
    "#g = sns.heatmap(file2[top_corr_features].corr(), annot=True, cmap=\"RdYlGn\")"
   ]
  },
  {
   "cell_type": "code",
   "execution_count": 22,
   "metadata": {
    "ExecuteTime": {
     "end_time": "2019-11-24T02:38:39.598094Z",
     "start_time": "2019-11-24T02:38:39.504272Z"
    }
   },
   "outputs": [],
   "source": [
    "#corrs = {}\n",
    "#cols = list(new_data.iloc[:,1:].columns)\n",
    "#for x in cols:\n",
    "#    cols = [w for w in cols if w != x]\n",
    "#    for w in cols:\n",
    " #       corrs[(x, w)] = new_data[x].corr(new_data[w])\n",
    "#results = [(x, v.round(2)) for x, v in corrs.items() if corrs[x] > 0.30]\n",
    "#results = sorted(results, key=lambda x: x[1], reverse=True)\n",
    "#results"
   ]
  },
  {
   "cell_type": "code",
   "execution_count": 23,
   "metadata": {
    "ExecuteTime": {
     "end_time": "2019-11-24T02:38:39.676327Z",
     "start_time": "2019-11-24T02:38:39.598094Z"
    }
   },
   "outputs": [],
   "source": [
    "#(file2.corr())> 0.70"
   ]
  },
  {
   "cell_type": "code",
   "execution_count": 24,
   "metadata": {
    "ExecuteTime": {
     "end_time": "2019-11-24T02:38:39.769635Z",
     "start_time": "2019-11-24T02:38:39.676327Z"
    }
   },
   "outputs": [],
   "source": [
    "#predict = 'EQ_PRIMARY'"
   ]
  },
  {
   "cell_type": "code",
   "execution_count": 25,
   "metadata": {
    "ExecuteTime": {
     "end_time": "2019-11-24T02:38:39.847782Z",
     "start_time": "2019-11-24T02:38:39.769635Z"
    }
   },
   "outputs": [],
   "source": [
    "#x = np.array(new_data.drop([predict, 'YEAR', 'MONTH'],1))"
   ]
  },
  {
   "cell_type": "code",
   "execution_count": 26,
   "metadata": {
    "ExecuteTime": {
     "end_time": "2019-11-24T02:38:39.957168Z",
     "start_time": "2019-11-24T02:38:39.847782Z"
    }
   },
   "outputs": [],
   "source": [
    "#y = np.array(new_data[predict])\n",
    "#x_train, x_test , y_train, y_test = sklearn.model_selection.train_test_split(x,y, test_size=0.2)"
   ]
  },
  {
   "cell_type": "code",
   "execution_count": 27,
   "metadata": {
    "ExecuteTime": {
     "end_time": "2019-11-24T02:38:40.035318Z",
     "start_time": "2019-11-24T02:38:39.957168Z"
    }
   },
   "outputs": [],
   "source": [
    "#model = KNeighborsClassifier(n_neighbors=11)\n",
    "#model.fit(x_train, y_train)\n",
    "#acc = model.score(x_test, y_test)\n",
    "#print(acc)"
   ]
  },
  {
   "cell_type": "code",
   "execution_count": 28,
   "metadata": {
    "ExecuteTime": {
     "end_time": "2019-11-24T02:38:40.119017Z",
     "start_time": "2019-11-24T02:38:40.035318Z"
    }
   },
   "outputs": [],
   "source": [
    "###\n",
    "#linear = linear_model.LinearRegression()\n",
    "#linear.fit(x_train, y_train)\n",
    "#acc = linear.score(x_test, y_test)\n",
    "#print(acc)\n",
    "\n"
   ]
  },
  {
   "cell_type": "code",
   "execution_count": 29,
   "metadata": {
    "ExecuteTime": {
     "end_time": "2019-11-24T02:38:40.204913Z",
     "start_time": "2019-11-24T02:38:40.123014Z"
    }
   },
   "outputs": [],
   "source": [
    "#predictions = model.predict(x_test)\n",
    "#for x in range(len(predictions)):\n",
    " #   print(predictions[x], y_test[x])\n",
    "#pd.DataFrame({\"Predicted\": predictions})\n",
    "#pd.DataFrame({\"actual\": y})\n"
   ]
  },
  {
   "cell_type": "code",
   "execution_count": 30,
   "metadata": {
    "ExecuteTime": {
     "end_time": "2019-11-24T02:38:40.314323Z",
     "start_time": "2019-11-24T02:38:40.204913Z"
    }
   },
   "outputs": [],
   "source": [
    "#file.shape"
   ]
  },
  {
   "cell_type": "code",
   "execution_count": 31,
   "metadata": {
    "ExecuteTime": {
     "end_time": "2019-11-24T02:38:40.439778Z",
     "start_time": "2019-11-24T02:38:40.314323Z"
    }
   },
   "outputs": [],
   "source": [
    "#grp = file.groupby(['REGION_CODE'])\n",
    "#grp['LATITUDE'].count()"
   ]
  },
  {
   "cell_type": "markdown",
   "metadata": {},
   "source": [
    "                                          # OPTION 2"
   ]
  },
  {
   "cell_type": "code",
   "execution_count": 32,
   "metadata": {
    "ExecuteTime": {
     "end_time": "2019-11-24T02:38:40.542479Z",
     "start_time": "2019-11-24T02:38:40.439778Z"
    }
   },
   "outputs": [],
   "source": [
    "#data = pd.read_csv(\"clean_data1.csv\")"
   ]
  },
  {
   "cell_type": "code",
   "execution_count": 33,
   "metadata": {
    "ExecuteTime": {
     "end_time": "2019-11-24T02:38:40.627470Z",
     "start_time": "2019-11-24T02:38:40.546476Z"
    }
   },
   "outputs": [],
   "source": [
    "#data.shape"
   ]
  },
  {
   "cell_type": "code",
   "execution_count": 34,
   "metadata": {
    "ExecuteTime": {
     "end_time": "2019-11-24T02:38:43.346709Z",
     "start_time": "2019-11-24T02:38:40.630474Z"
    }
   },
   "outputs": [],
   "source": [
    "data2 = pd.read_csv(\"USGS_clean.csv\")"
   ]
  },
  {
   "cell_type": "code",
   "execution_count": 35,
   "metadata": {
    "ExecuteTime": {
     "end_time": "2019-11-24T02:38:43.355711Z",
     "start_time": "2019-11-24T02:38:43.348719Z"
    }
   },
   "outputs": [
    {
     "data": {
      "text/plain": [
       "(698521, 12)"
      ]
     },
     "execution_count": 35,
     "metadata": {},
     "output_type": "execute_result"
    }
   ],
   "source": [
    "data2.shape"
   ]
  },
  {
   "cell_type": "code",
   "execution_count": 36,
   "metadata": {
    "ExecuteTime": {
     "end_time": "2019-11-24T02:38:43.482853Z",
     "start_time": "2019-11-24T02:38:43.358712Z"
    }
   },
   "outputs": [
    {
     "data": {
      "text/plain": [
       "Index(['latitude', 'longitude', 'depth', 'mag', 'magType', 'place', 'type',\n",
       "       'status', 'locationSource', 'magSource', 'date', 'Time'],\n",
       "      dtype='object')"
      ]
     },
     "execution_count": 36,
     "metadata": {},
     "output_type": "execute_result"
    }
   ],
   "source": [
    "data2.columns"
   ]
  },
  {
   "cell_type": "code",
   "execution_count": 37,
   "metadata": {
    "ExecuteTime": {
     "end_time": "2019-11-24T02:38:43.615236Z",
     "start_time": "2019-11-24T02:38:43.485848Z"
    }
   },
   "outputs": [
    {
     "data": {
      "text/html": [
       "<div>\n",
       "<style scoped>\n",
       "    .dataframe tbody tr th:only-of-type {\n",
       "        vertical-align: middle;\n",
       "    }\n",
       "\n",
       "    .dataframe tbody tr th {\n",
       "        vertical-align: top;\n",
       "    }\n",
       "\n",
       "    .dataframe thead th {\n",
       "        text-align: right;\n",
       "    }\n",
       "</style>\n",
       "<table border=\"1\" class=\"dataframe\">\n",
       "  <thead>\n",
       "    <tr style=\"text-align: right;\">\n",
       "      <th></th>\n",
       "      <th>latitude</th>\n",
       "      <th>longitude</th>\n",
       "      <th>depth</th>\n",
       "      <th>mag</th>\n",
       "      <th>magType</th>\n",
       "      <th>place</th>\n",
       "      <th>type</th>\n",
       "      <th>status</th>\n",
       "      <th>locationSource</th>\n",
       "      <th>magSource</th>\n",
       "      <th>date</th>\n",
       "      <th>Time</th>\n",
       "    </tr>\n",
       "  </thead>\n",
       "  <tbody>\n",
       "    <tr>\n",
       "      <th>0</th>\n",
       "      <td>63.438000</td>\n",
       "      <td>-147.5497</td>\n",
       "      <td>8.600</td>\n",
       "      <td>0.70</td>\n",
       "      <td>ml</td>\n",
       "      <td>70km E of Cantwell, Alaska</td>\n",
       "      <td>earthquake</td>\n",
       "      <td>reviewed</td>\n",
       "      <td>ak</td>\n",
       "      <td>ak</td>\n",
       "      <td>1/31/2015</td>\n",
       "      <td>59:08.0</td>\n",
       "    </tr>\n",
       "    <tr>\n",
       "      <th>1</th>\n",
       "      <td>56.848900</td>\n",
       "      <td>-168.7847</td>\n",
       "      <td>19.270</td>\n",
       "      <td>3.00</td>\n",
       "      <td>ml</td>\n",
       "      <td>95km ESE of City of Saint Paul, Alaska</td>\n",
       "      <td>earthquake</td>\n",
       "      <td>reviewed</td>\n",
       "      <td>us</td>\n",
       "      <td>ak</td>\n",
       "      <td>1/31/2015</td>\n",
       "      <td>58:12.5</td>\n",
       "    </tr>\n",
       "    <tr>\n",
       "      <th>2</th>\n",
       "      <td>62.643300</td>\n",
       "      <td>-152.0163</td>\n",
       "      <td>11.700</td>\n",
       "      <td>0.90</td>\n",
       "      <td>ml</td>\n",
       "      <td>104km WNW of Talkeetna, Alaska</td>\n",
       "      <td>earthquake</td>\n",
       "      <td>reviewed</td>\n",
       "      <td>ak</td>\n",
       "      <td>ak</td>\n",
       "      <td>1/31/2015</td>\n",
       "      <td>47:11.8</td>\n",
       "    </tr>\n",
       "    <tr>\n",
       "      <th>3</th>\n",
       "      <td>-29.422700</td>\n",
       "      <td>-68.1586</td>\n",
       "      <td>105.960</td>\n",
       "      <td>4.50</td>\n",
       "      <td>mb</td>\n",
       "      <td>70km WSW of Chilecito, Argentina</td>\n",
       "      <td>earthquake</td>\n",
       "      <td>reviewed</td>\n",
       "      <td>us</td>\n",
       "      <td>us</td>\n",
       "      <td>1/31/2015</td>\n",
       "      <td>45:43.2</td>\n",
       "    </tr>\n",
       "    <tr>\n",
       "      <th>4</th>\n",
       "      <td>36.012667</td>\n",
       "      <td>-117.7915</td>\n",
       "      <td>-0.232</td>\n",
       "      <td>1.01</td>\n",
       "      <td>ml</td>\n",
       "      <td>13km NE of Little Lake, CA</td>\n",
       "      <td>earthquake</td>\n",
       "      <td>reviewed</td>\n",
       "      <td>ci</td>\n",
       "      <td>ci</td>\n",
       "      <td>1/31/2015</td>\n",
       "      <td>43:54.9</td>\n",
       "    </tr>\n",
       "  </tbody>\n",
       "</table>\n",
       "</div>"
      ],
      "text/plain": [
       "    latitude  longitude    depth   mag magType  \\\n",
       "0  63.438000  -147.5497    8.600  0.70      ml   \n",
       "1  56.848900  -168.7847   19.270  3.00      ml   \n",
       "2  62.643300  -152.0163   11.700  0.90      ml   \n",
       "3 -29.422700   -68.1586  105.960  4.50      mb   \n",
       "4  36.012667  -117.7915   -0.232  1.01      ml   \n",
       "\n",
       "                                    place        type    status  \\\n",
       "0              70km E of Cantwell, Alaska  earthquake  reviewed   \n",
       "1  95km ESE of City of Saint Paul, Alaska  earthquake  reviewed   \n",
       "2          104km WNW of Talkeetna, Alaska  earthquake  reviewed   \n",
       "3        70km WSW of Chilecito, Argentina  earthquake  reviewed   \n",
       "4              13km NE of Little Lake, CA  earthquake  reviewed   \n",
       "\n",
       "  locationSource magSource       date     Time  \n",
       "0             ak        ak  1/31/2015  59:08.0  \n",
       "1             us        ak  1/31/2015  58:12.5  \n",
       "2             ak        ak  1/31/2015  47:11.8  \n",
       "3             us        us  1/31/2015  45:43.2  \n",
       "4             ci        ci  1/31/2015  43:54.9  "
      ]
     },
     "execution_count": 37,
     "metadata": {},
     "output_type": "execute_result"
    }
   ],
   "source": [
    "data2.head()"
   ]
  },
  {
   "cell_type": "code",
   "execution_count": 38,
   "metadata": {
    "ExecuteTime": {
     "end_time": "2019-11-24T02:38:43.739466Z",
     "start_time": "2019-11-24T02:38:43.619296Z"
    }
   },
   "outputs": [
    {
     "data": {
      "text/html": [
       "<div>\n",
       "<style scoped>\n",
       "    .dataframe tbody tr th:only-of-type {\n",
       "        vertical-align: middle;\n",
       "    }\n",
       "\n",
       "    .dataframe tbody tr th {\n",
       "        vertical-align: top;\n",
       "    }\n",
       "\n",
       "    .dataframe thead th {\n",
       "        text-align: right;\n",
       "    }\n",
       "</style>\n",
       "<table border=\"1\" class=\"dataframe\">\n",
       "  <thead>\n",
       "    <tr style=\"text-align: right;\">\n",
       "      <th></th>\n",
       "      <th>latitude</th>\n",
       "      <th>longitude</th>\n",
       "      <th>depth</th>\n",
       "      <th>mag</th>\n",
       "      <th>magType</th>\n",
       "    </tr>\n",
       "  </thead>\n",
       "  <tbody>\n",
       "    <tr>\n",
       "      <th>0</th>\n",
       "      <td>63.438000</td>\n",
       "      <td>-147.5497</td>\n",
       "      <td>8.600</td>\n",
       "      <td>0.70</td>\n",
       "      <td>ml</td>\n",
       "    </tr>\n",
       "    <tr>\n",
       "      <th>1</th>\n",
       "      <td>56.848900</td>\n",
       "      <td>-168.7847</td>\n",
       "      <td>19.270</td>\n",
       "      <td>3.00</td>\n",
       "      <td>ml</td>\n",
       "    </tr>\n",
       "    <tr>\n",
       "      <th>2</th>\n",
       "      <td>62.643300</td>\n",
       "      <td>-152.0163</td>\n",
       "      <td>11.700</td>\n",
       "      <td>0.90</td>\n",
       "      <td>ml</td>\n",
       "    </tr>\n",
       "    <tr>\n",
       "      <th>3</th>\n",
       "      <td>-29.422700</td>\n",
       "      <td>-68.1586</td>\n",
       "      <td>105.960</td>\n",
       "      <td>4.50</td>\n",
       "      <td>mb</td>\n",
       "    </tr>\n",
       "    <tr>\n",
       "      <th>4</th>\n",
       "      <td>36.012667</td>\n",
       "      <td>-117.7915</td>\n",
       "      <td>-0.232</td>\n",
       "      <td>1.01</td>\n",
       "      <td>ml</td>\n",
       "    </tr>\n",
       "  </tbody>\n",
       "</table>\n",
       "</div>"
      ],
      "text/plain": [
       "    latitude  longitude    depth   mag magType\n",
       "0  63.438000  -147.5497    8.600  0.70      ml\n",
       "1  56.848900  -168.7847   19.270  3.00      ml\n",
       "2  62.643300  -152.0163   11.700  0.90      ml\n",
       "3 -29.422700   -68.1586  105.960  4.50      mb\n",
       "4  36.012667  -117.7915   -0.232  1.01      ml"
      ]
     },
     "execution_count": 38,
     "metadata": {},
     "output_type": "execute_result"
    }
   ],
   "source": [
    "new_data = data2.drop(['place', 'type', 'status', 'locationSource', 'magSource', 'date', 'Time'],1)\n",
    "new_data.head()"
   ]
  },
  {
   "cell_type": "code",
   "execution_count": 39,
   "metadata": {
    "ExecuteTime": {
     "end_time": "2019-11-24T02:38:43.845794Z",
     "start_time": "2019-11-24T02:38:43.741462Z"
    }
   },
   "outputs": [],
   "source": [
    "merge = new_data[['latitude', 'longitude', 'depth', 'mag']]"
   ]
  },
  {
   "cell_type": "code",
   "execution_count": 40,
   "metadata": {
    "ExecuteTime": {
     "end_time": "2019-11-24T02:38:43.939944Z",
     "start_time": "2019-11-24T02:38:43.845794Z"
    }
   },
   "outputs": [],
   "source": [
    "#dummy = pd.get_dummies(new_data['magType'])\n",
    "#dummy.head()"
   ]
  },
  {
   "cell_type": "code",
   "execution_count": 41,
   "metadata": {
    "ExecuteTime": {
     "end_time": "2019-11-24T02:38:44.017738Z",
     "start_time": "2019-11-24T02:38:43.939944Z"
    }
   },
   "outputs": [],
   "source": [
    "#merge_dummy = pd.concat([new_data, dummy], axis=1)\n",
    "#del merge_dummy['magType']\n",
    "#del merge_dummy['net']\n"
   ]
  },
  {
   "cell_type": "code",
   "execution_count": 42,
   "metadata": {
    "ExecuteTime": {
     "end_time": "2019-11-24T02:38:44.108352Z",
     "start_time": "2019-11-24T02:38:44.017738Z"
    }
   },
   "outputs": [
    {
     "data": {
      "text/html": [
       "<div>\n",
       "<style scoped>\n",
       "    .dataframe tbody tr th:only-of-type {\n",
       "        vertical-align: middle;\n",
       "    }\n",
       "\n",
       "    .dataframe tbody tr th {\n",
       "        vertical-align: top;\n",
       "    }\n",
       "\n",
       "    .dataframe thead th {\n",
       "        text-align: right;\n",
       "    }\n",
       "</style>\n",
       "<table border=\"1\" class=\"dataframe\">\n",
       "  <thead>\n",
       "    <tr style=\"text-align: right;\">\n",
       "      <th></th>\n",
       "      <th>latitude</th>\n",
       "      <th>longitude</th>\n",
       "      <th>depth</th>\n",
       "      <th>mag</th>\n",
       "    </tr>\n",
       "  </thead>\n",
       "  <tbody>\n",
       "    <tr>\n",
       "      <th>0</th>\n",
       "      <td>63.438000</td>\n",
       "      <td>-147.5497</td>\n",
       "      <td>8.600</td>\n",
       "      <td>0.70</td>\n",
       "    </tr>\n",
       "    <tr>\n",
       "      <th>1</th>\n",
       "      <td>56.848900</td>\n",
       "      <td>-168.7847</td>\n",
       "      <td>19.270</td>\n",
       "      <td>3.00</td>\n",
       "    </tr>\n",
       "    <tr>\n",
       "      <th>2</th>\n",
       "      <td>62.643300</td>\n",
       "      <td>-152.0163</td>\n",
       "      <td>11.700</td>\n",
       "      <td>0.90</td>\n",
       "    </tr>\n",
       "    <tr>\n",
       "      <th>3</th>\n",
       "      <td>-29.422700</td>\n",
       "      <td>-68.1586</td>\n",
       "      <td>105.960</td>\n",
       "      <td>4.50</td>\n",
       "    </tr>\n",
       "    <tr>\n",
       "      <th>4</th>\n",
       "      <td>36.012667</td>\n",
       "      <td>-117.7915</td>\n",
       "      <td>-0.232</td>\n",
       "      <td>1.01</td>\n",
       "    </tr>\n",
       "  </tbody>\n",
       "</table>\n",
       "</div>"
      ],
      "text/plain": [
       "    latitude  longitude    depth   mag\n",
       "0  63.438000  -147.5497    8.600  0.70\n",
       "1  56.848900  -168.7847   19.270  3.00\n",
       "2  62.643300  -152.0163   11.700  0.90\n",
       "3 -29.422700   -68.1586  105.960  4.50\n",
       "4  36.012667  -117.7915   -0.232  1.01"
      ]
     },
     "execution_count": 42,
     "metadata": {},
     "output_type": "execute_result"
    }
   ],
   "source": [
    "merge.head()"
   ]
  },
  {
   "cell_type": "code",
   "execution_count": 43,
   "metadata": {
    "ExecuteTime": {
     "end_time": "2019-11-24T02:38:45.893637Z",
     "start_time": "2019-11-24T02:38:44.112352Z"
    }
   },
   "outputs": [
    {
     "data": {
      "image/png": "[encoded data removed]",
      "text/plain": [
       "<Figure size 1440x1080 with 2 Axes>"
      ]
     },
     "metadata": {
      "needs_background": "light"
     },
     "output_type": "display_data"
    }
   ],
   "source": [
    "corrmat = merge.corr()\n",
    "top_corr_features = corrmat.index\n",
    "plt.figure(figsize=(20,15))\n",
    "g = sns.heatmap(merge[top_corr_features].corr(), annot=True, cmap=\"Greens\")"
   ]
  },
  {
   "cell_type": "code",
   "execution_count": 99,
   "metadata": {
    "ExecuteTime": {
     "end_time": "2019-11-24T17:57:30.279724Z",
     "start_time": "2019-11-24T17:57:30.117361Z"
    }
   },
   "outputs": [
    {
     "ename": "AttributeError",
     "evalue": "'AxesSubplot' object has no attribute 'savefig'",
     "output_type": "error",
     "traceback": [
      "\u001b[1;31m---------------------------------------------------------------------------\u001b[0m",
      "\u001b[1;31mAttributeError\u001b[0m                            Traceback (most recent call last)",
      "\u001b[1;32m<ipython-input-99-feb47262faff>\u001b[0m in \u001b[0;36m<module>\u001b[1;34m\u001b[0m\n\u001b[1;32m----> 1\u001b[1;33m \u001b[0mg\u001b[0m\u001b[1;33m.\u001b[0m\u001b[0msavefig\u001b[0m\u001b[1;33m(\u001b[0m\u001b[1;34m'correlation.png'\u001b[0m\u001b[1;33m)\u001b[0m\u001b[1;33m\u001b[0m\u001b[1;33m\u001b[0m\u001b[0m\n\u001b[0m",
      "\u001b[1;31mAttributeError\u001b[0m: 'AxesSubplot' object has no attribute 'savefig'"
     ]
    }
   ],
   "source": [
    "g.savefig('correlation.png')"
   ]
  },
  {
   "cell_type": "code",
   "execution_count": 44,
   "metadata": {
    "ExecuteTime": {
     "end_time": "2019-11-24T02:38:46.128334Z",
     "start_time": "2019-11-24T02:38:45.893637Z"
    }
   },
   "outputs": [],
   "source": [
    "from sklearn.neural_network import MLPRegressor"
   ]
  },
  {
   "cell_type": "code",
   "execution_count": null,
   "metadata": {},
   "outputs": [],
   "source": []
  },
  {
   "cell_type": "code",
   "execution_count": 45,
   "metadata": {
    "ExecuteTime": {
     "end_time": "2019-11-24T02:38:46.337474Z",
     "start_time": "2019-11-24T02:38:46.132336Z"
    }
   },
   "outputs": [],
   "source": [
    "# trying to predict the magnitude with Linear regression\n",
    "predict = \"mag\"\n",
    "x = np.array(merge.drop([predict], 1))\n",
    "y = np.array(merge[predict])\n",
    "x_train, x_test , y_train, y_test = sklearn.model_selection.train_test_split(x,y, test_size = 0.20)\n",
    "#linear = linear_model.LinearRegression()\n",
    "#linear.fit(x_train, y_train)\n",
    "#acc = linear.score(x_test, y_test)\n",
    "#print(acc)\n"
   ]
  },
  {
   "cell_type": "code",
   "execution_count": 46,
   "metadata": {
    "ExecuteTime": {
     "end_time": "2019-11-24T02:41:10.950541Z",
     "start_time": "2019-11-24T02:38:46.337474Z"
    }
   },
   "outputs": [
    {
     "name": "stdout",
     "output_type": "stream",
     "text": [
      "0.7149405118991023\n"
     ]
    }
   ],
   "source": [
    "mlp = MLPRegressor(hidden_layer_sizes=(9,3), activation='relu',solver='adam')\n",
    "mlp.fit(x_train, y_train)\n",
    "#y_pred = mlp.predict(x_test)\n",
    "acc = mlp.score(x_test, y_test)\n",
    "print(acc)"
   ]
  },
  {
   "cell_type": "code",
   "execution_count": 59,
   "metadata": {
    "ExecuteTime": {
     "end_time": "2019-11-24T03:09:00.638614Z",
     "start_time": "2019-11-24T03:09:00.622612Z"
    }
   },
   "outputs": [
    {
     "data": {
      "text/html": [
       "<div>\n",
       "<style scoped>\n",
       "    .dataframe tbody tr th:only-of-type {\n",
       "        vertical-align: middle;\n",
       "    }\n",
       "\n",
       "    .dataframe tbody tr th {\n",
       "        vertical-align: top;\n",
       "    }\n",
       "\n",
       "    .dataframe thead th {\n",
       "        text-align: right;\n",
       "    }\n",
       "</style>\n",
       "<table border=\"1\" class=\"dataframe\">\n",
       "  <thead>\n",
       "    <tr style=\"text-align: right;\">\n",
       "      <th></th>\n",
       "      <th>lat</th>\n",
       "      <th>long</th>\n",
       "      <th>depth</th>\n",
       "    </tr>\n",
       "  </thead>\n",
       "  <tbody>\n",
       "    <tr>\n",
       "      <th>0</th>\n",
       "      <td>60.3218</td>\n",
       "      <td>-138.7824</td>\n",
       "      <td>10.400</td>\n",
       "    </tr>\n",
       "    <tr>\n",
       "      <th>1</th>\n",
       "      <td>63.8098</td>\n",
       "      <td>-148.5188</td>\n",
       "      <td>96.600</td>\n",
       "    </tr>\n",
       "    <tr>\n",
       "      <th>2</th>\n",
       "      <td>60.4985</td>\n",
       "      <td>-150.3146</td>\n",
       "      <td>39.600</td>\n",
       "    </tr>\n",
       "    <tr>\n",
       "      <th>3</th>\n",
       "      <td>36.7494</td>\n",
       "      <td>-98.0416</td>\n",
       "      <td>7.302</td>\n",
       "    </tr>\n",
       "    <tr>\n",
       "      <th>4</th>\n",
       "      <td>38.6521</td>\n",
       "      <td>-118.7956</td>\n",
       "      <td>11.600</td>\n",
       "    </tr>\n",
       "  </tbody>\n",
       "</table>\n",
       "</div>"
      ],
      "text/plain": [
       "       lat      long   depth\n",
       "0  60.3218 -138.7824  10.400\n",
       "1  63.8098 -148.5188  96.600\n",
       "2  60.4985 -150.3146  39.600\n",
       "3  36.7494  -98.0416   7.302\n",
       "4  38.6521 -118.7956  11.600"
      ]
     },
     "execution_count": 59,
     "metadata": {},
     "output_type": "execute_result"
    }
   ],
   "source": [
    "dataset = pd.DataFrame({'lat': x_test[:, 0], 'long': x_test[:, 1] , 'depth': x_test[: ,2]} )\n",
    "dataset.head()"
   ]
  },
  {
   "cell_type": "code",
   "execution_count": 47,
   "metadata": {
    "ExecuteTime": {
     "end_time": "2019-11-24T02:41:10.955534Z",
     "start_time": "2019-11-24T02:41:10.952532Z"
    }
   },
   "outputs": [],
   "source": [
    "#print(\"Co: \" , ml.coef_)\n",
    "#print(\"Intercept: \" , linear.intercept_)"
   ]
  },
  {
   "cell_type": "code",
   "execution_count": 87,
   "metadata": {
    "ExecuteTime": {
     "end_time": "2019-11-24T03:49:14.201175Z",
     "start_time": "2019-11-24T03:49:12.905020Z"
    }
   },
   "outputs": [],
   "source": [
    "predictions = mlp.predict(x_test)\n",
    "df = []\n",
    "for i, pred in enumerate(predictions):\n",
    "   # print( round(pred , 2), x_test[i],  y_test[i])\n",
    "    #df = pd.DataFrame({'predictions': round(pred , 2) , 'Actual' : y_test[i]})\n",
    "        predict = round(pred , 2)\n",
    "        actual_data = y_test[i]\n",
    "        coor = x_test[i]\n",
    "        df.append({'prediction': predict, 'actual_data': actual_data , 'lat': coor[0], 'long' : coor[1], 'Depth':coor[2]})\n",
    "        \n",
    "        #print(coor)\n",
    "        #df = pd.DataFrame({'Prediction': predict[: , 0], 'Actual_data': actual_data[: , 0]})\n",
    "    #result = list_data.append(y_test[i])\n",
    "    "
   ]
  },
  {
   "cell_type": "code",
   "execution_count": 91,
   "metadata": {
    "ExecuteTime": {
     "end_time": "2019-11-24T03:49:59.711701Z",
     "start_time": "2019-11-24T03:49:59.699698Z"
    }
   },
   "outputs": [
    {
     "data": {
      "text/html": [
       "<div>\n",
       "<style scoped>\n",
       "    .dataframe tbody tr th:only-of-type {\n",
       "        vertical-align: middle;\n",
       "    }\n",
       "\n",
       "    .dataframe tbody tr th {\n",
       "        vertical-align: top;\n",
       "    }\n",
       "\n",
       "    .dataframe thead th {\n",
       "        text-align: right;\n",
       "    }\n",
       "</style>\n",
       "<table border=\"1\" class=\"dataframe\">\n",
       "  <thead>\n",
       "    <tr style=\"text-align: right;\">\n",
       "      <th></th>\n",
       "      <th>Depth</th>\n",
       "      <th>actual_data</th>\n",
       "      <th>lat</th>\n",
       "      <th>long</th>\n",
       "      <th>prediction</th>\n",
       "    </tr>\n",
       "  </thead>\n",
       "  <tbody>\n",
       "    <tr>\n",
       "      <th>0</th>\n",
       "      <td>10.400</td>\n",
       "      <td>1.1</td>\n",
       "      <td>60.3218</td>\n",
       "      <td>-138.7824</td>\n",
       "      <td>1.31</td>\n",
       "    </tr>\n",
       "    <tr>\n",
       "      <th>1</th>\n",
       "      <td>96.600</td>\n",
       "      <td>0.9</td>\n",
       "      <td>63.8098</td>\n",
       "      <td>-148.5188</td>\n",
       "      <td>1.15</td>\n",
       "    </tr>\n",
       "    <tr>\n",
       "      <th>2</th>\n",
       "      <td>39.600</td>\n",
       "      <td>1.3</td>\n",
       "      <td>60.4985</td>\n",
       "      <td>-150.3146</td>\n",
       "      <td>1.81</td>\n",
       "    </tr>\n",
       "    <tr>\n",
       "      <th>3</th>\n",
       "      <td>7.302</td>\n",
       "      <td>3.3</td>\n",
       "      <td>36.7494</td>\n",
       "      <td>-98.0416</td>\n",
       "      <td>2.14</td>\n",
       "    </tr>\n",
       "    <tr>\n",
       "      <th>4</th>\n",
       "      <td>11.600</td>\n",
       "      <td>1.0</td>\n",
       "      <td>38.6521</td>\n",
       "      <td>-118.7956</td>\n",
       "      <td>0.97</td>\n",
       "    </tr>\n",
       "  </tbody>\n",
       "</table>\n",
       "</div>"
      ],
      "text/plain": [
       "    Depth  actual_data      lat      long  prediction\n",
       "0  10.400          1.1  60.3218 -138.7824        1.31\n",
       "1  96.600          0.9  63.8098 -148.5188        1.15\n",
       "2  39.600          1.3  60.4985 -150.3146        1.81\n",
       "3   7.302          3.3  36.7494  -98.0416        2.14\n",
       "4  11.600          1.0  38.6521 -118.7956        0.97"
      ]
     },
     "execution_count": 91,
     "metadata": {},
     "output_type": "execute_result"
    }
   ],
   "source": [
    "df = pd.DataFrame(df)\n",
    "df.head()"
   ]
  },
  {
   "cell_type": "code",
   "execution_count": 94,
   "metadata": {
    "ExecuteTime": {
     "end_time": "2019-11-24T03:59:01.419588Z",
     "start_time": "2019-11-24T03:59:00.200341Z"
    }
   },
   "outputs": [],
   "source": [
    "df.to_csv('predicted_data.csv')"
   ]
  },
  {
   "cell_type": "code",
   "execution_count": null,
   "metadata": {
    "ExecuteTime": {
     "end_time": "2019-11-24T04:18:01.685416Z",
     "start_time": "2019-11-24T04:18:01.373563Z"
    }
   },
   "outputs": [],
   "source": []
  },
  {
   "cell_type": "code",
   "execution_count": 89,
   "metadata": {
    "ExecuteTime": {
     "end_time": "2019-11-24T03:49:30.758327Z",
     "start_time": "2019-11-24T03:49:30.755327Z"
    }
   },
   "outputs": [],
   "source": [
    "#p = mlp.predict(x_train)\n",
    "#for i , pred in enumerate(predictions):\n",
    "#    print(round(pred , 2), x_train[i], y_train[i])"
   ]
  },
  {
   "cell_type": "code",
   "execution_count": 50,
   "metadata": {
    "ExecuteTime": {
     "end_time": "2019-11-24T02:42:56.323279Z",
     "start_time": "2019-11-24T02:42:56.317280Z"
    }
   },
   "outputs": [],
   "source": [
    "#y_test"
   ]
  },
  {
   "cell_type": "code",
   "execution_count": null,
   "metadata": {
    "ExecuteTime": {
     "end_time": "2019-11-23T16:36:44.606639Z",
     "start_time": "2019-11-23T16:36:44.577634Z"
    }
   },
   "outputs": [],
   "source": []
  },
  {
   "cell_type": "code",
   "execution_count": null,
   "metadata": {},
   "outputs": [],
   "source": []
  }
 ],
 "metadata": {
  "kernelspec": {
   "display_name": "Python 3",
   "language": "python",
   "name": "python3"
  },
  "language_info": {
   "codemirror_mode": {
    "name": "ipython",
    "version": 3
   },
   "file_extension": ".py",
   "mimetype": "text/x-python",
   "name": "python",
   "nbconvert_exporter": "python",
   "pygments_lexer": "ipython3",
   "version": "3.7.3"
  }
 },
 "nbformat": 4,
 "nbformat_minor": 2
}
