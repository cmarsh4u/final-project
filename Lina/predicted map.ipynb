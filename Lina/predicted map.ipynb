{
 "cells": [
  {
   "cell_type": "code",
   "execution_count": 2,
   "metadata": {
    "ExecuteTime": {
     "end_time": "2019-11-24T07:46:03.508759Z",
     "start_time": "2019-11-24T07:45:58.304999Z"
    }
   },
   "outputs": [],
   "source": [
    "import pandas as pd\n",
    "import os\n",
    "import matplotlib.pyplot as plt\n",
    "import seaborn as sns\n",
    "import folium "
   ]
  },
  {
   "cell_type": "code",
   "execution_count": 3,
   "metadata": {
    "ExecuteTime": {
     "end_time": "2019-11-24T07:46:35.539148Z",
     "start_time": "2019-11-24T07:46:35.063036Z"
    }
   },
   "outputs": [],
   "source": [
    "df = pd.read_csv('predicted_data.csv')"
   ]
  },
  {
   "cell_type": "code",
   "execution_count": 69,
   "metadata": {
    "ExecuteTime": {
     "end_time": "2019-11-24T17:43:22.956785Z",
     "start_time": "2019-11-24T17:43:20.560587Z"
    }
   },
   "outputs": [],
   "source": [
    "map_crime = folium.Map(location=[32.7920, -115.5631], zoom_start=13, tiles='cartodbdark_matter')\n",
    "for i in range(1000):\n",
    "    lat = df['lat'].iloc[i]\n",
    "    long = df['long'].iloc[i]\n",
    "    #radius = df['actual_data'] * 100\n",
    "    if df['prediction'].iloc[i] == df['actual_data'].iloc[i]:\n",
    "        radius = 15\n",
    "        fill_color = '#33FF42 '\n",
    "        color = 'green' # red\n",
    "    else:\n",
    "        fill_color = 'red'\n",
    "        radius = 10\n",
    "        color='#A8FF33 ' # blue\n",
    "    popup_text= \"\"\"\" \n",
    "                Predicted Magnitude: {} <br>\n",
    "                Actual Magnitude: {} <br>\"\"\"\n",
    "                \n",
    "    popup_text = popup_text.format(df['prediction'][i], df['actual_data'][i])\n",
    "    folium.CircleMarker(location=[lat,long], popup=popup_text, color=color, fill_color=fill_color,fill_opacity=1, radius=radius,\n",
    "                       height=500, width= 300).add_to(map_crime)\n",
    "    \n",
    "map_crime\n",
    "map_crime.save('predicted_map.html')"
   ]
  },
  {
   "cell_type": "code",
   "execution_count": null,
   "metadata": {},
   "outputs": [],
   "source": []
  }
 ],
 "metadata": {
  "kernelspec": {
   "display_name": "Python 3",
   "language": "python",
   "name": "python3"
  },
  "language_info": {
   "codemirror_mode": {
    "name": "ipython",
    "version": 3
   },
   "file_extension": ".py",
   "mimetype": "text/x-python",
   "name": "python",
   "nbconvert_exporter": "python",
   "pygments_lexer": "ipython3",
   "version": "3.7.3"
  }
 },
 "nbformat": 4,
 "nbformat_minor": 2
}
