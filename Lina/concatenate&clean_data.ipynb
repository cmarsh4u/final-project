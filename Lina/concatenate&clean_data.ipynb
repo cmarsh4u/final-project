{
 "cells": [
  {
   "cell_type": "code",
   "execution_count": 1,
   "metadata": {
    "ExecuteTime": {
     "end_time": "2019-11-18T02:18:26.597629Z",
     "start_time": "2019-11-18T02:18:06.552453Z"
    }
   },
   "outputs": [],
   "source": [
    "import pandas as pd"
   ]
  },
  {
   "cell_type": "code",
   "execution_count": 14,
   "metadata": {
    "ExecuteTime": {
     "end_time": "2019-11-18T02:29:12.137139Z",
     "start_time": "2019-11-18T02:29:11.122058Z"
    }
   },
   "outputs": [],
   "source": [
    "file1 = pd.read_csv(\"2015Earthquakes/query (1).csv\")\n",
    "file2 = pd.read_csv(\"2015Earthquakes/query (2).csv\")\n",
    "file3 = pd.read_csv(\"2015Earthquakes/query (3).csv\")\n",
    "file4 = pd.read_csv(\"2015Earthquakes/query (4).csv\")\n",
    "file5 = pd.read_csv(\"2015Earthquakes/query (4).csv\")\n",
    "file6 = pd.read_csv(\"2015Earthquakes/query (6).csv\")\n",
    "file7 = pd.read_csv(\"2015Earthquakes/query (7).csv\")\n",
    "file8 = pd.read_csv(\"2015Earthquakes/query (8).csv\")\n",
    "file9 = pd.read_csv(\"2015Earthquakes/query (9).csv\")\n",
    "file10 = pd.read_csv(\"2015Earthquakes/query (10).csv\")\n",
    "file11 = pd.read_csv(\"2015Earthquakes/query (11).csv\")\n",
    "file12 = pd.read_csv(\"2015Earthquakes/query (12).csv\")"
   ]
  },
  {
   "cell_type": "code",
   "execution_count": 16,
   "metadata": {
    "ExecuteTime": {
     "end_time": "2019-11-18T02:29:43.183807Z",
     "start_time": "2019-11-18T02:29:43.174816Z"
    }
   },
   "outputs": [
    {
     "data": {
      "text/plain": [
       "Index(['time', 'latitude', 'longitude', 'depth', 'mag', 'magType', 'nst',\n",
       "       'gap', 'dmin', 'rms', 'net', 'id', 'updated', 'place', 'type',\n",
       "       'horizontalError', 'depthError', 'magError', 'magNst', 'status',\n",
       "       'locationSource', 'magSource'],\n",
       "      dtype='object')"
      ]
     },
     "execution_count": 16,
     "metadata": {},
     "output_type": "execute_result"
    }
   ],
   "source": [
    "file11.columns"
   ]
  },
  {
   "cell_type": "code",
   "execution_count": 17,
   "metadata": {
    "ExecuteTime": {
     "end_time": "2019-11-18T02:33:06.213331Z",
     "start_time": "2019-11-18T02:33:06.080321Z"
    }
   },
   "outputs": [],
   "source": [
    "new_data = pd.concat([file1,file2,file3,file4,file5,file6,file7,file8,file9,file10,file11,file12])"
   ]
  },
  {
   "cell_type": "code",
   "execution_count": 23,
   "metadata": {
    "ExecuteTime": {
     "end_time": "2019-11-18T02:35:22.999946Z",
     "start_time": "2019-11-18T02:35:21.682839Z"
    }
   },
   "outputs": [],
   "source": [
    "file1 = pd.read_csv(\"2016Earthquakes/query (1).csv\")\n",
    "file2 = pd.read_csv(\"2016Earthquakes/query (2).csv\")\n",
    "file3 = pd.read_csv(\"2016Earthquakes/query (3).csv\")\n",
    "file4 = pd.read_csv(\"2016Earthquakes/query (4).csv\")\n",
    "file5 = pd.read_csv(\"2016Earthquakes/query (4).csv\")\n",
    "file6 = pd.read_csv(\"2016Earthquakes/query (6).csv\")\n",
    "file7 = pd.read_csv(\"2016Earthquakes/query (7).csv\")\n",
    "file8 = pd.read_csv(\"2016Earthquakes/query (8).csv\")\n",
    "file9 = pd.read_csv(\"2016Earthquakes/query (9).csv\")\n",
    "file10 = pd.read_csv(\"2016Earthquakes/query (10).csv\")\n",
    "file11 = pd.read_csv(\"2016Earthquakes/query (11).csv\")\n",
    "file12 = pd.read_csv(\"2016Earthquakes/query (12).csv\")"
   ]
  },
  {
   "cell_type": "code",
   "execution_count": 24,
   "metadata": {
    "ExecuteTime": {
     "end_time": "2019-11-18T02:35:45.909556Z",
     "start_time": "2019-11-18T02:35:45.774879Z"
    }
   },
   "outputs": [],
   "source": [
    "new_data_2016 = pd.concat([file1,file2,file3,file4,file5,file6,file7,file8,file9,file10,file11,file12])"
   ]
  },
  {
   "cell_type": "code",
   "execution_count": 28,
   "metadata": {
    "ExecuteTime": {
     "end_time": "2019-11-18T02:38:27.629248Z",
     "start_time": "2019-11-18T02:38:26.024126Z"
    }
   },
   "outputs": [],
   "source": [
    "file1 = pd.read_csv(\"2017Earthquakes/query (1).csv\")\n",
    "file2 = pd.read_csv(\"2017Earthquakes/query (2).csv\")\n",
    "file3 = pd.read_csv(\"2017Earthquakes/query (3).csv\")\n",
    "file4 = pd.read_csv(\"2017Earthquakes/query (4).csv\")\n",
    "file5 = pd.read_csv(\"2017Earthquakes/query (4).csv\")\n",
    "file6 = pd.read_csv(\"2017Earthquakes/query (6).csv\")\n",
    "file7 = pd.read_csv(\"2017Earthquakes/query (7).csv\")\n",
    "file8 = pd.read_csv(\"2017Earthquakes/query (8).csv\")\n",
    "file9 = pd.read_csv(\"2017Earthquakes/query (9).csv\")\n",
    "file10 = pd.read_csv(\"2017Earthquakes/query (10).csv\")\n",
    "file11 = pd.read_csv(\"2017Earthquakes/query (11).csv\")\n",
    "file12 = pd.read_csv(\"2017Earthquakes/query (12).csv\")"
   ]
  },
  {
   "cell_type": "code",
   "execution_count": 29,
   "metadata": {
    "ExecuteTime": {
     "end_time": "2019-11-18T02:38:44.584227Z",
     "start_time": "2019-11-18T02:38:44.436214Z"
    }
   },
   "outputs": [],
   "source": [
    "new_data_2017 = pd.concat([file1,file2,file3,file4,file5,file6,file7,file8,file9,file10,file11,file12])"
   ]
  },
  {
   "cell_type": "code",
   "execution_count": 31,
   "metadata": {
    "ExecuteTime": {
     "end_time": "2019-11-18T02:41:06.200628Z",
     "start_time": "2019-11-18T02:41:04.331056Z"
    }
   },
   "outputs": [],
   "source": [
    "file1 = pd.read_csv(\"2018Earthquakes/query (1).csv\")\n",
    "file2 = pd.read_csv(\"2018Earthquakes/query (2).csv\")\n",
    "file3 = pd.read_csv(\"2018Earthquakes/query (3).csv\")\n",
    "file4 = pd.read_csv(\"2018Earthquakes/query (4).csv\")\n",
    "file5 = pd.read_csv(\"2018Earthquakes/query (4).csv\")\n",
    "file6 = pd.read_csv(\"2018Earthquakes/query (6).csv\")\n",
    "file7 = pd.read_csv(\"2018Earthquakes/query (7).csv\")\n",
    "file8 = pd.read_csv(\"2018Earthquakes/query (8).csv\")\n",
    "file9 = pd.read_csv(\"2018Earthquakes/query (9).csv\")\n",
    "file10 = pd.read_csv(\"2018Earthquakes/query (10).csv\")\n",
    "file11 = pd.read_csv(\"2018Earthquakes/query (11).csv\")\n",
    "file12 = pd.read_csv(\"2018Earthquakes/query (12).csv\")\n",
    "file13 = pd.read_csv(\"2018Earthquakes/query (13).csv\")\n",
    "file14 = pd.read_csv(\"2018Earthquakes/query (14).csv\")"
   ]
  },
  {
   "cell_type": "code",
   "execution_count": 32,
   "metadata": {
    "ExecuteTime": {
     "end_time": "2019-11-18T02:41:28.539691Z",
     "start_time": "2019-11-18T02:41:28.328674Z"
    }
   },
   "outputs": [],
   "source": [
    "new_data_2018 = pd.concat([file1,file2,file3,file4,file5,file6,file7,file8,file9,file10,file11,file12,file13,file14])"
   ]
  },
  {
   "cell_type": "code",
   "execution_count": 35,
   "metadata": {
    "ExecuteTime": {
     "end_time": "2019-11-18T02:44:28.109615Z",
     "start_time": "2019-11-18T02:44:26.923518Z"
    }
   },
   "outputs": [],
   "source": [
    "file1 = pd.read_csv(\"2019Earthquakes/query (1).csv\")\n",
    "file2 = pd.read_csv(\"2019Earthquakes/query (2).csv\")\n",
    "file3 = pd.read_csv(\"2019Earthquakes/query (3).csv\")\n",
    "file4 = pd.read_csv(\"2019Earthquakes/query (4).csv\")\n",
    "file5 = pd.read_csv(\"2019Earthquakes/query (4).csv\")\n",
    "file6 = pd.read_csv(\"2019Earthquakes/query (6).csv\")\n",
    "file8 = pd.read_csv(\"2019Earthquakes/query (8).csv\")\n",
    "file9 = pd.read_csv(\"2019Earthquakes/query (9).csv\")\n",
    "file10 = pd.read_csv(\"2019Earthquakes/query (10).csv\")\n",
    "file11 = pd.read_csv(\"2019Earthquakes/query (11).csv\")\n",
    "file12 = pd.read_csv(\"2019Earthquakes/query (12).csv\")\n",
    "file13 = pd.read_csv(\"2019Earthquakes/query (13).csv\")"
   ]
  },
  {
   "cell_type": "code",
   "execution_count": 36,
   "metadata": {
    "ExecuteTime": {
     "end_time": "2019-11-18T02:44:54.642446Z",
     "start_time": "2019-11-18T02:44:54.515434Z"
    }
   },
   "outputs": [],
   "source": [
    "new_data_2019 = pd.concat([file1,file2,file3,file4,file5,file6,file8,file9,file10,file11,file12,file13])"
   ]
  },
  {
   "cell_type": "code",
   "execution_count": 39,
   "metadata": {
    "ExecuteTime": {
     "end_time": "2019-11-18T02:48:24.970607Z",
     "start_time": "2019-11-18T02:48:24.514565Z"
    }
   },
   "outputs": [],
   "source": [
    "Earthquakes2015_2019 = pd.concat([new_data, new_data_2016, new_data_2017, new_data_2018, new_data_2019])"
   ]
  },
  {
   "cell_type": "code",
   "execution_count": 41,
   "metadata": {
    "ExecuteTime": {
     "end_time": "2019-11-18T02:48:57.236407Z",
     "start_time": "2019-11-18T02:48:57.197406Z"
    }
   },
   "outputs": [
    {
     "data": {
      "text/html": [
       "<div>\n",
       "<style scoped>\n",
       "    .dataframe tbody tr th:only-of-type {\n",
       "        vertical-align: middle;\n",
       "    }\n",
       "\n",
       "    .dataframe tbody tr th {\n",
       "        vertical-align: top;\n",
       "    }\n",
       "\n",
       "    .dataframe thead th {\n",
       "        text-align: right;\n",
       "    }\n",
       "</style>\n",
       "<table border=\"1\" class=\"dataframe\">\n",
       "  <thead>\n",
       "    <tr style=\"text-align: right;\">\n",
       "      <th></th>\n",
       "      <th>time</th>\n",
       "      <th>latitude</th>\n",
       "      <th>longitude</th>\n",
       "      <th>depth</th>\n",
       "      <th>mag</th>\n",
       "      <th>magType</th>\n",
       "      <th>nst</th>\n",
       "      <th>gap</th>\n",
       "      <th>dmin</th>\n",
       "      <th>rms</th>\n",
       "      <th>...</th>\n",
       "      <th>updated</th>\n",
       "      <th>place</th>\n",
       "      <th>type</th>\n",
       "      <th>horizontalError</th>\n",
       "      <th>depthError</th>\n",
       "      <th>magError</th>\n",
       "      <th>magNst</th>\n",
       "      <th>status</th>\n",
       "      <th>locationSource</th>\n",
       "      <th>magSource</th>\n",
       "    </tr>\n",
       "  </thead>\n",
       "  <tbody>\n",
       "    <tr>\n",
       "      <th>0</th>\n",
       "      <td>2015-01-31T23:59:08.222Z</td>\n",
       "      <td>63.438000</td>\n",
       "      <td>-147.5497</td>\n",
       "      <td>8.600</td>\n",
       "      <td>0.70</td>\n",
       "      <td>ml</td>\n",
       "      <td>NaN</td>\n",
       "      <td>NaN</td>\n",
       "      <td>NaN</td>\n",
       "      <td>0.46</td>\n",
       "      <td>...</td>\n",
       "      <td>2019-05-21T03:01:44.003Z</td>\n",
       "      <td>70km E of Cantwell, Alaska</td>\n",
       "      <td>earthquake</td>\n",
       "      <td>NaN</td>\n",
       "      <td>0.90</td>\n",
       "      <td>NaN</td>\n",
       "      <td>NaN</td>\n",
       "      <td>reviewed</td>\n",
       "      <td>ak</td>\n",
       "      <td>ak</td>\n",
       "    </tr>\n",
       "    <tr>\n",
       "      <th>1</th>\n",
       "      <td>2015-01-31T23:58:12.470Z</td>\n",
       "      <td>56.848900</td>\n",
       "      <td>-168.7847</td>\n",
       "      <td>19.270</td>\n",
       "      <td>3.00</td>\n",
       "      <td>ml</td>\n",
       "      <td>NaN</td>\n",
       "      <td>111.0</td>\n",
       "      <td>0.86500</td>\n",
       "      <td>0.55</td>\n",
       "      <td>...</td>\n",
       "      <td>2019-05-21T03:01:43.660Z</td>\n",
       "      <td>95km ESE of City of Saint Paul, Alaska</td>\n",
       "      <td>earthquake</td>\n",
       "      <td>5.20</td>\n",
       "      <td>8.70</td>\n",
       "      <td>NaN</td>\n",
       "      <td>NaN</td>\n",
       "      <td>reviewed</td>\n",
       "      <td>us</td>\n",
       "      <td>ak</td>\n",
       "    </tr>\n",
       "    <tr>\n",
       "      <th>2</th>\n",
       "      <td>2015-01-31T23:47:11.839Z</td>\n",
       "      <td>62.643300</td>\n",
       "      <td>-152.0163</td>\n",
       "      <td>11.700</td>\n",
       "      <td>0.90</td>\n",
       "      <td>ml</td>\n",
       "      <td>NaN</td>\n",
       "      <td>NaN</td>\n",
       "      <td>NaN</td>\n",
       "      <td>0.74</td>\n",
       "      <td>...</td>\n",
       "      <td>2019-05-21T03:01:43.350Z</td>\n",
       "      <td>104km WNW of Talkeetna, Alaska</td>\n",
       "      <td>earthquake</td>\n",
       "      <td>NaN</td>\n",
       "      <td>0.40</td>\n",
       "      <td>NaN</td>\n",
       "      <td>NaN</td>\n",
       "      <td>reviewed</td>\n",
       "      <td>ak</td>\n",
       "      <td>ak</td>\n",
       "    </tr>\n",
       "    <tr>\n",
       "      <th>3</th>\n",
       "      <td>2015-01-31T23:45:43.210Z</td>\n",
       "      <td>-29.422700</td>\n",
       "      <td>-68.1586</td>\n",
       "      <td>105.960</td>\n",
       "      <td>4.50</td>\n",
       "      <td>mb</td>\n",
       "      <td>NaN</td>\n",
       "      <td>114.0</td>\n",
       "      <td>1.77200</td>\n",
       "      <td>0.89</td>\n",
       "      <td>...</td>\n",
       "      <td>2015-05-02T14:06:02.040Z</td>\n",
       "      <td>70km WSW of Chilecito, Argentina</td>\n",
       "      <td>earthquake</td>\n",
       "      <td>3.20</td>\n",
       "      <td>7.10</td>\n",
       "      <td>0.150</td>\n",
       "      <td>14.0</td>\n",
       "      <td>reviewed</td>\n",
       "      <td>us</td>\n",
       "      <td>us</td>\n",
       "    </tr>\n",
       "    <tr>\n",
       "      <th>4</th>\n",
       "      <td>2015-01-31T23:43:54.860Z</td>\n",
       "      <td>36.012667</td>\n",
       "      <td>-117.7915</td>\n",
       "      <td>-0.232</td>\n",
       "      <td>1.01</td>\n",
       "      <td>ml</td>\n",
       "      <td>14.0</td>\n",
       "      <td>57.0</td>\n",
       "      <td>0.02468</td>\n",
       "      <td>0.15</td>\n",
       "      <td>...</td>\n",
       "      <td>2016-03-11T04:30:09.923Z</td>\n",
       "      <td>13km NE of Little Lake, CA</td>\n",
       "      <td>earthquake</td>\n",
       "      <td>0.37</td>\n",
       "      <td>31.61</td>\n",
       "      <td>0.142</td>\n",
       "      <td>9.0</td>\n",
       "      <td>reviewed</td>\n",
       "      <td>ci</td>\n",
       "      <td>ci</td>\n",
       "    </tr>\n",
       "  </tbody>\n",
       "</table>\n",
       "<p>5 rows × 22 columns</p>\n",
       "</div>"
      ],
      "text/plain": [
       "                       time   latitude  longitude    depth   mag magType  \\\n",
       "0  2015-01-31T23:59:08.222Z  63.438000  -147.5497    8.600  0.70      ml   \n",
       "1  2015-01-31T23:58:12.470Z  56.848900  -168.7847   19.270  3.00      ml   \n",
       "2  2015-01-31T23:47:11.839Z  62.643300  -152.0163   11.700  0.90      ml   \n",
       "3  2015-01-31T23:45:43.210Z -29.422700   -68.1586  105.960  4.50      mb   \n",
       "4  2015-01-31T23:43:54.860Z  36.012667  -117.7915   -0.232  1.01      ml   \n",
       "\n",
       "    nst    gap     dmin   rms  ...                   updated  \\\n",
       "0   NaN    NaN      NaN  0.46  ...  2019-05-21T03:01:44.003Z   \n",
       "1   NaN  111.0  0.86500  0.55  ...  2019-05-21T03:01:43.660Z   \n",
       "2   NaN    NaN      NaN  0.74  ...  2019-05-21T03:01:43.350Z   \n",
       "3   NaN  114.0  1.77200  0.89  ...  2015-05-02T14:06:02.040Z   \n",
       "4  14.0   57.0  0.02468  0.15  ...  2016-03-11T04:30:09.923Z   \n",
       "\n",
       "                                    place        type horizontalError  \\\n",
       "0              70km E of Cantwell, Alaska  earthquake             NaN   \n",
       "1  95km ESE of City of Saint Paul, Alaska  earthquake            5.20   \n",
       "2          104km WNW of Talkeetna, Alaska  earthquake             NaN   \n",
       "3        70km WSW of Chilecito, Argentina  earthquake            3.20   \n",
       "4              13km NE of Little Lake, CA  earthquake            0.37   \n",
       "\n",
       "  depthError  magError  magNst    status  locationSource magSource  \n",
       "0       0.90       NaN     NaN  reviewed              ak        ak  \n",
       "1       8.70       NaN     NaN  reviewed              us        ak  \n",
       "2       0.40       NaN     NaN  reviewed              ak        ak  \n",
       "3       7.10     0.150    14.0  reviewed              us        us  \n",
       "4      31.61     0.142     9.0  reviewed              ci        ci  \n",
       "\n",
       "[5 rows x 22 columns]"
      ]
     },
     "execution_count": 41,
     "metadata": {},
     "output_type": "execute_result"
    }
   ],
   "source": [
    "Earthquakes2015_2019.head()"
   ]
  },
  {
   "cell_type": "code",
   "execution_count": 44,
   "metadata": {
    "ExecuteTime": {
     "end_time": "2019-11-18T02:51:01.460024Z",
     "start_time": "2019-11-18T02:50:46.951984Z"
    }
   },
   "outputs": [],
   "source": [
    "Earthquakes2015_2019.to_csv('USGS.csv', index=False)"
   ]
  },
  {
   "cell_type": "code",
   "execution_count": null,
   "metadata": {},
   "outputs": [],
   "source": []
  }
 ],
 "metadata": {
  "kernelspec": {
   "display_name": "Python 3",
   "language": "python",
   "name": "python3"
  },
  "language_info": {
   "codemirror_mode": {
    "name": "ipython",
    "version": 3
   },
   "file_extension": ".py",
   "mimetype": "text/x-python",
   "name": "python",
   "nbconvert_exporter": "python",
   "pygments_lexer": "ipython3",
   "version": "3.7.3"
  }
 },
 "nbformat": 4,
 "nbformat_minor": 2
}
